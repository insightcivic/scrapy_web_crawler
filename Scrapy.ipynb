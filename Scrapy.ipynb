{
 "cells": [
  {
   "cell_type": "markdown",
   "id": "2f6174eb",
   "metadata": {},
   "source": [
    "# Using Scrapy to scrape a website"
   ]
  },
  {
   "cell_type": "markdown",
   "id": "b4818376",
   "metadata": {},
   "source": [
    "### Command line version"
   ]
  },
  {
   "cell_type": "code",
   "execution_count": null,
   "id": "fd77221e",
   "metadata": {},
   "outputs": [],
   "source": [
    "# You can run this spider with the scrapy crawl blogspider -o output.json command, \n",
    "# which will save the scraped data to the output.json file.\n",
    "\n",
    "\n",
    "import scrapy\n",
    "from scrapy.spiders import CrawlSpider, Rule\n",
    "from scrapy.linkextractors import LinkExtractor\n",
    "from w3lib.html import remove_tags\n",
    "\n",
    "class BlogSpider(CrawlSpider):\n",
    "    name = \"blogspider\"\n",
    "    allowed_domains = [\"website.com\"]\n",
    "    start_urls = ['http://website.com/']\n",
    "\n",
    "    rules = (\n",
    "        #Rule(LinkExtractor(allow=('/posts/')), callback='parse_item', follow=True),\n",
    "        Rule(LinkExtractor(allow=('/')), callback='parse_item', follow=True),\n",
    "    )\n",
    "    # stuff to not get blocked\n",
    "    custom_settings = {\n",
    "        'DOWNLOAD_DELAY': 5,  # delay between requests\n",
    "        'USER_AGENT': 'Mozilla/5.0 (Windows NT 10.0; Win64; x64) AppleWebKit/537.36 (KHTML, like Gecko) Chrome/89.0.4389.82 Safari/537.36', # mimic a browser user-agent\n",
    "        'CONCURRENT_REQUESTS': 2, # reduce the number of concurrent requests\n",
    "        'AUTOTHROTTLE_ENABLED': True, # enable auto-throttling\n",
    "        'AUTOTHROTTLE_START_DELAY': 5, # initial download delay\n",
    "        'AUTOTHROTTLE_MAX_DELAY': 30, # maximum download delay\n",
    "        'AUTOTHROTTLE_TARGET_CONCURRENCY': 1.0, # average number of requests to send in parallel to each remote server\n",
    "        'DEPTH_LIMIT': 2, # Only follow links one layer deep\n",
    "    }\n",
    "\n",
    "    def parse_item(self, response):\n",
    "        yield {\n",
    "            'url': response.url,\n",
    "            'title': response.css('h1::text').get(),\n",
    "            'date': response.css('time::attr(datetime)').get(),\n",
    "            'content': remove_tags(\" \".join(response.css('article *::text').getall())),\n",
    "        }\n"
   ]
  },
  {
   "cell_type": "markdown",
   "id": "9274c00f",
   "metadata": {},
   "source": [
    "### Jupyter Notebook version"
   ]
  },
  {
   "cell_type": "code",
   "execution_count": 1,
   "id": "71762cfb",
   "metadata": {},
   "outputs": [],
   "source": [
    "# Jupyter Notebook version\n",
    "\n",
    "from scrapy.crawler import CrawlerProcess\n",
    "from scrapy.spiders import CrawlSpider, Rule\n",
    "from scrapy.linkextractors import LinkExtractor\n",
    "from w3lib.html import remove_tags\n",
    "\n",
    "class BlogSpider(CrawlSpider):\n",
    "    name = \"blogspider\"\n",
    "    allowed_domains = [\"blueswivel.com\"]\n",
    "    start_urls = ['http://blueswivel.com/']\n",
    "\n",
    "    rules = (\n",
    "        Rule(LinkExtractor(allow=('/')), callback='parse_item', follow=True),\n",
    "    )\n",
    "\n",
    "    custom_settings = {\n",
    "        'DOWNLOAD_DELAY': 3,  \n",
    "        'USER_AGENT': 'Mozilla/5.0 (Windows NT 10.0; Win64; x64) AppleWebKit/537.36 (KHTML, like Gecko) Chrome/89.0.4389.82 Safari/537.36',\n",
    "        'CONCURRENT_REQUESTS': 2, \n",
    "        'AUTOTHROTTLE_ENABLED': True, \n",
    "        'AUTOTHROTTLE_START_DELAY': 5, \n",
    "        'AUTOTHROTTLE_MAX_DELAY': 60, \n",
    "        'AUTOTHROTTLE_TARGET_CONCURRENCY': 1.0,\n",
    "        'DEPTH_LIMIT': 2, # Only follow links one layer deep\n",
    "        # this stores output in a JSON file\n",
    "        'FEEDS': {\n",
    "            'output.json': {\n",
    "                'format': 'json',\n",
    "                'encoding': 'utf8',\n",
    "                'store_empty': False,\n",
    "                'fields': None,\n",
    "                'indent': 4,\n",
    "                'item_export_kwargs': {\n",
    "                    'export_empty_fields': False,\n",
    "                },\n",
    "            },\n",
    "        },\n",
    "    }\n",
    "    \n",
    "\n",
    "    def parse_item(self, response):\n",
    "        yield {\n",
    "            'url': response.url,\n",
    "            'title': response.css('h1::text').get(),\n",
    "            'date': response.css('time::attr(datetime)').get(),\n",
    "            'content': remove_tags(\" \".join(response.css('article *::text').getall())),\n",
    "        }\n",
    "\n",
    "\n"
   ]
  },
  {
   "cell_type": "code",
   "execution_count": 3,
   "id": "8f508815",
   "metadata": {},
   "outputs": [
    {
     "name": "stderr",
     "output_type": "stream",
     "text": [
      "2023-06-25 11:48:17 [scrapy.utils.log] INFO: Scrapy 2.9.0 started (bot: scrapybot)\n",
      "2023-06-25 11:48:17 [scrapy.utils.log] INFO: Versions: lxml 4.9.2.0, libxml2 2.11.4, cssselect 1.2.0, parsel 1.8.1, w3lib 2.1.1, Twisted 22.10.0, Python 3.10.12 | packaged by conda-forge | (main, Jun 23 2023, 22:34:57) [MSC v.1936 64 bit (AMD64)], pyOpenSSL 23.2.0 (OpenSSL 3.1.1 30 May 2023), cryptography 41.0.1, Platform Windows-10-10.0.19045-SP0\n",
      "2023-06-25 11:48:17 [scrapy.crawler] INFO: Overridden settings:\n",
      "{'AUTOTHROTTLE_ENABLED': True,\n",
      " 'CONCURRENT_REQUESTS': 2,\n",
      " 'DEPTH_LIMIT': 2,\n",
      " 'DOWNLOAD_DELAY': 3,\n",
      " 'USER_AGENT': 'Mozilla/5.0 (Windows NT 10.0; Win64; x64) AppleWebKit/537.36 '\n",
      "               '(KHTML, like Gecko) Chrome/89.0.4389.82 Safari/537.36'}\n",
      "2023-06-25 11:48:17 [py.warnings] WARNING: D:\\miniconda\\envs\\scrapy\\lib\\site-packages\\scrapy\\utils\\request.py:232: ScrapyDeprecationWarning: '2.6' is a deprecated value for the 'REQUEST_FINGERPRINTER_IMPLEMENTATION' setting.\n",
      "\n",
      "It is also the default value. In other words, it is normal to get this warning if you have not defined a value for the 'REQUEST_FINGERPRINTER_IMPLEMENTATION' setting. This is so for backward compatibility reasons, but it will change in a future version of Scrapy.\n",
      "\n",
      "See the documentation of the 'REQUEST_FINGERPRINTER_IMPLEMENTATION' setting for information on how to handle this deprecation.\n",
      "  return cls(crawler)\n",
      "\n",
      "2023-06-25 11:48:17 [scrapy.utils.log] DEBUG: Using reactor: twisted.internet.selectreactor.SelectReactor\n",
      "2023-06-25 11:48:17 [scrapy.extensions.telnet] INFO: Telnet Password: e4f225084d074ae5\n",
      "2023-06-25 11:48:17 [scrapy.middleware] INFO: Enabled extensions:\n",
      "['scrapy.extensions.corestats.CoreStats',\n",
      " 'scrapy.extensions.telnet.TelnetConsole',\n",
      " 'scrapy.extensions.feedexport.FeedExporter',\n",
      " 'scrapy.extensions.logstats.LogStats',\n",
      " 'scrapy.extensions.throttle.AutoThrottle']\n",
      "2023-06-25 11:48:17 [scrapy.middleware] INFO: Enabled downloader middlewares:\n",
      "['scrapy.downloadermiddlewares.httpauth.HttpAuthMiddleware',\n",
      " 'scrapy.downloadermiddlewares.downloadtimeout.DownloadTimeoutMiddleware',\n",
      " 'scrapy.downloadermiddlewares.defaultheaders.DefaultHeadersMiddleware',\n",
      " 'scrapy.downloadermiddlewares.useragent.UserAgentMiddleware',\n",
      " 'scrapy.downloadermiddlewares.retry.RetryMiddleware',\n",
      " 'scrapy.downloadermiddlewares.redirect.MetaRefreshMiddleware',\n",
      " 'scrapy.downloadermiddlewares.httpcompression.HttpCompressionMiddleware',\n",
      " 'scrapy.downloadermiddlewares.redirect.RedirectMiddleware',\n",
      " 'scrapy.downloadermiddlewares.cookies.CookiesMiddleware',\n",
      " 'scrapy.downloadermiddlewares.httpproxy.HttpProxyMiddleware',\n",
      " 'scrapy.downloadermiddlewares.stats.DownloaderStats']\n",
      "2023-06-25 11:48:17 [scrapy.middleware] INFO: Enabled spider middlewares:\n",
      "['scrapy.spidermiddlewares.httperror.HttpErrorMiddleware',\n",
      " 'scrapy.spidermiddlewares.offsite.OffsiteMiddleware',\n",
      " 'scrapy.spidermiddlewares.referer.RefererMiddleware',\n",
      " 'scrapy.spidermiddlewares.urllength.UrlLengthMiddleware',\n",
      " 'scrapy.spidermiddlewares.depth.DepthMiddleware']\n",
      "2023-06-25 11:48:17 [scrapy.middleware] INFO: Enabled item pipelines:\n",
      "[]\n",
      "2023-06-25 11:48:17 [scrapy.core.engine] INFO: Spider opened\n",
      "2023-06-25 11:48:17 [scrapy.extensions.logstats] INFO: Crawled 0 pages (at 0 pages/min), scraped 0 items (at 0 items/min)\n",
      "2023-06-25 11:48:17 [scrapy.extensions.telnet] INFO: Telnet console listening on 127.0.0.1:6023\n"
     ]
    },
    {
     "ename": "ReactorNotRestartable",
     "evalue": "",
     "output_type": "error",
     "traceback": [
      "\u001b[1;31m---------------------------------------------------------------------------\u001b[0m",
      "\u001b[1;31mReactorNotRestartable\u001b[0m                     Traceback (most recent call last)",
      "Cell \u001b[1;32mIn[3], line 4\u001b[0m\n\u001b[0;32m      2\u001b[0m process \u001b[38;5;241m=\u001b[39m CrawlerProcess()\n\u001b[0;32m      3\u001b[0m process\u001b[38;5;241m.\u001b[39mcrawl(BlogSpider)\n\u001b[1;32m----> 4\u001b[0m \u001b[43mprocess\u001b[49m\u001b[38;5;241;43m.\u001b[39;49m\u001b[43mstart\u001b[49m\u001b[43m(\u001b[49m\u001b[43m)\u001b[49m\n",
      "File \u001b[1;32mD:\\miniconda\\envs\\scrapy\\lib\\site-packages\\scrapy\\crawler.py:390\u001b[0m, in \u001b[0;36mCrawlerProcess.start\u001b[1;34m(self, stop_after_crawl, install_signal_handlers)\u001b[0m\n\u001b[0;32m    388\u001b[0m tp\u001b[38;5;241m.\u001b[39madjustPoolsize(maxthreads\u001b[38;5;241m=\u001b[39m\u001b[38;5;28mself\u001b[39m\u001b[38;5;241m.\u001b[39msettings\u001b[38;5;241m.\u001b[39mgetint(\u001b[38;5;124m\"\u001b[39m\u001b[38;5;124mREACTOR_THREADPOOL_MAXSIZE\u001b[39m\u001b[38;5;124m\"\u001b[39m))\n\u001b[0;32m    389\u001b[0m reactor\u001b[38;5;241m.\u001b[39maddSystemEventTrigger(\u001b[38;5;124m\"\u001b[39m\u001b[38;5;124mbefore\u001b[39m\u001b[38;5;124m\"\u001b[39m, \u001b[38;5;124m\"\u001b[39m\u001b[38;5;124mshutdown\u001b[39m\u001b[38;5;124m\"\u001b[39m, \u001b[38;5;28mself\u001b[39m\u001b[38;5;241m.\u001b[39mstop)\n\u001b[1;32m--> 390\u001b[0m \u001b[43mreactor\u001b[49m\u001b[38;5;241;43m.\u001b[39;49m\u001b[43mrun\u001b[49m\u001b[43m(\u001b[49m\u001b[43minstallSignalHandlers\u001b[49m\u001b[38;5;241;43m=\u001b[39;49m\u001b[38;5;28;43;01mFalse\u001b[39;49;00m\u001b[43m)\u001b[49m\n",
      "File \u001b[1;32mD:\\miniconda\\envs\\scrapy\\lib\\site-packages\\twisted\\internet\\base.py:1317\u001b[0m, in \u001b[0;36m_SignalReactorMixin.run\u001b[1;34m(self, installSignalHandlers)\u001b[0m\n\u001b[0;32m   1316\u001b[0m \u001b[38;5;28;01mdef\u001b[39;00m \u001b[38;5;21mrun\u001b[39m(\u001b[38;5;28mself\u001b[39m, installSignalHandlers: \u001b[38;5;28mbool\u001b[39m \u001b[38;5;241m=\u001b[39m \u001b[38;5;28;01mTrue\u001b[39;00m) \u001b[38;5;241m-\u001b[39m\u001b[38;5;241m>\u001b[39m \u001b[38;5;28;01mNone\u001b[39;00m:\n\u001b[1;32m-> 1317\u001b[0m     \u001b[38;5;28;43mself\u001b[39;49m\u001b[38;5;241;43m.\u001b[39;49m\u001b[43mstartRunning\u001b[49m\u001b[43m(\u001b[49m\u001b[43minstallSignalHandlers\u001b[49m\u001b[38;5;241;43m=\u001b[39;49m\u001b[43minstallSignalHandlers\u001b[49m\u001b[43m)\u001b[49m\n\u001b[0;32m   1318\u001b[0m     \u001b[38;5;28mself\u001b[39m\u001b[38;5;241m.\u001b[39mmainLoop()\n",
      "File \u001b[1;32mD:\\miniconda\\envs\\scrapy\\lib\\site-packages\\twisted\\internet\\base.py:1299\u001b[0m, in \u001b[0;36m_SignalReactorMixin.startRunning\u001b[1;34m(self, installSignalHandlers)\u001b[0m\n\u001b[0;32m   1290\u001b[0m \u001b[38;5;250m\u001b[39m\u001b[38;5;124;03m\"\"\"\u001b[39;00m\n\u001b[0;32m   1291\u001b[0m \u001b[38;5;124;03mExtend the base implementation in order to remember whether signal\u001b[39;00m\n\u001b[0;32m   1292\u001b[0m \u001b[38;5;124;03mhandlers should be installed later.\u001b[39;00m\n\u001b[1;32m   (...)\u001b[0m\n\u001b[0;32m   1296\u001b[0m \u001b[38;5;124;03m    installed during startup.\u001b[39;00m\n\u001b[0;32m   1297\u001b[0m \u001b[38;5;124;03m\"\"\"\u001b[39;00m\n\u001b[0;32m   1298\u001b[0m \u001b[38;5;28mself\u001b[39m\u001b[38;5;241m.\u001b[39m_installSignalHandlers \u001b[38;5;241m=\u001b[39m installSignalHandlers\n\u001b[1;32m-> 1299\u001b[0m \u001b[43mReactorBase\u001b[49m\u001b[38;5;241;43m.\u001b[39;49m\u001b[43mstartRunning\u001b[49m\u001b[43m(\u001b[49m\u001b[43mcast\u001b[49m\u001b[43m(\u001b[49m\u001b[43mReactorBase\u001b[49m\u001b[43m,\u001b[49m\u001b[43m \u001b[49m\u001b[38;5;28;43mself\u001b[39;49m\u001b[43m)\u001b[49m\u001b[43m)\u001b[49m\n",
      "File \u001b[1;32mD:\\miniconda\\envs\\scrapy\\lib\\site-packages\\twisted\\internet\\base.py:843\u001b[0m, in \u001b[0;36mReactorBase.startRunning\u001b[1;34m(self)\u001b[0m\n\u001b[0;32m    841\u001b[0m     \u001b[38;5;28;01mraise\u001b[39;00m error\u001b[38;5;241m.\u001b[39mReactorAlreadyRunning()\n\u001b[0;32m    842\u001b[0m \u001b[38;5;28;01mif\u001b[39;00m \u001b[38;5;28mself\u001b[39m\u001b[38;5;241m.\u001b[39m_startedBefore:\n\u001b[1;32m--> 843\u001b[0m     \u001b[38;5;28;01mraise\u001b[39;00m error\u001b[38;5;241m.\u001b[39mReactorNotRestartable()\n\u001b[0;32m    844\u001b[0m \u001b[38;5;28mself\u001b[39m\u001b[38;5;241m.\u001b[39m_started \u001b[38;5;241m=\u001b[39m \u001b[38;5;28;01mTrue\u001b[39;00m\n\u001b[0;32m    845\u001b[0m \u001b[38;5;28mself\u001b[39m\u001b[38;5;241m.\u001b[39m_stopped \u001b[38;5;241m=\u001b[39m \u001b[38;5;28;01mFalse\u001b[39;00m\n",
      "\u001b[1;31mReactorNotRestartable\u001b[0m: "
     ]
    }
   ],
   "source": [
    "# Need this to run the spider inside the Jupyter notebook\n",
    "process = CrawlerProcess()\n",
    "process.crawl(BlogSpider)\n",
    "process.start()"
   ]
  },
  {
   "cell_type": "code",
   "execution_count": null,
   "id": "7f82cfb2",
   "metadata": {},
   "outputs": [],
   "source": []
  }
 ],
 "metadata": {
  "kernelspec": {
   "display_name": "Python 3 (ipykernel)",
   "language": "python",
   "name": "python3"
  },
  "language_info": {
   "codemirror_mode": {
    "name": "ipython",
    "version": 3
   },
   "file_extension": ".py",
   "mimetype": "text/x-python",
   "name": "python",
   "nbconvert_exporter": "python",
   "pygments_lexer": "ipython3",
   "version": "3.10.12"
  }
 },
 "nbformat": 4,
 "nbformat_minor": 5
}
